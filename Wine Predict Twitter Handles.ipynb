{
 "cells": [
  {
   "cell_type": "markdown",
   "metadata": {},
   "source": [
    "Predicting Missing Twitter Handles from Text"
   ]
  },
  {
   "cell_type": "code",
   "execution_count": 77,
   "metadata": {
    "collapsed": true
   },
   "outputs": [],
   "source": [
    "import pandas as pd\n",
    "import numpy as np\n",
    "import matplotlib.pyplot as plt\n",
    "import seaborn as sns\n",
    "import nltk\n",
    "%matplotlib inline"
   ]
  },
  {
   "cell_type": "code",
   "execution_count": 78,
   "metadata": {},
   "outputs": [],
   "source": [
    "df=pd.read_csv('C:\\Users\\kiran\\Desktop\\Spring 2018\\Project\\WineProject\\winedata.csv')"
   ]
  },
  {
   "cell_type": "code",
   "execution_count": 79,
   "metadata": {},
   "outputs": [],
   "source": [
    "test=df[df['taster_twitter_handle'].isnull()]   #Test data"
   ]
  },
  {
   "cell_type": "code",
   "execution_count": 80,
   "metadata": {
    "collapsed": true
   },
   "outputs": [],
   "source": [
    "df2=df[df['taster_twitter_handle'].notnull()] "
   ]
  },
  {
   "cell_type": "code",
   "execution_count": 81,
   "metadata": {
    "collapsed": true
   },
   "outputs": [],
   "source": [
    "#Splitting into Train and validation sets\n",
    "from sklearn.model_selection import train_test_split\n",
    "train,validation=train_test_split(df2,test_size=0.2)"
   ]
  },
  {
   "cell_type": "code",
   "execution_count": 82,
   "metadata": {
    "collapsed": true
   },
   "outputs": [],
   "source": [
    "by_handle=train.groupby('taster_twitter_handle')"
   ]
  },
  {
   "cell_type": "code",
   "execution_count": 83,
   "metadata": {},
   "outputs": [],
   "source": [
    "wordfreq=nltk.probability.ConditionalFreqDist()\n",
    "for name,group in by_handle:\n",
    "    tweets=group['description'].str.cat(sep = ' ') \n",
    "    #get all of the tweets they wrote and collapse them into a\n",
    "    #single long string\n",
    "    tweets=tweets.lower().decode('utf-8')\n",
    "    #split the text into individual tokens\n",
    "    tokens=nltk.tokenize.word_tokenize(tweets)\n",
    "    # calculate the frequency of each token\n",
    "    freq=nltk.FreqDist(tokens)\n",
    "    #add the frequencies for each author to our dictionary\n",
    "    wordfreq[name]=(freq)\n",
    "    "
   ]
  },
  {
   "cell_type": "markdown",
   "metadata": {
    "collapsed": true
   },
   "source": [
    "Guessing who tweeted the review using Joint Probability"
   ]
  },
  {
   "cell_type": "code",
   "execution_count": 84,
   "metadata": {
    "collapsed": true
   },
   "outputs": [],
   "source": [
    "def Guess_Joint_Prob(s): #s is the tweet to be analyzed\n",
    "    testTweet=s\n",
    "    processedTweet=nltk.tokenize.word_tokenize(testTweet.lower())\n",
    "    testProbabilities=pd.DataFrame(columns=['handle','word','probability'])\n",
    "    for i in wordfreq.keys(): #get handles\n",
    "        for j in processedTweet: #each word from tweet\n",
    "            tweetfreq=wordfreq[i].freq(j) #how frequently that word was tweeted by that handle\n",
    "            smoothedfreq=tweetfreq+0.000001\n",
    "            #adding handle and smoothedfreq to DF\n",
    "            output=pd.DataFrame([[i,j,smoothedfreq]],columns=['handle','word','probability'])\n",
    "            testProbabilities=testProbabilities.append(output,ignore_index=True)\n",
    "    testProbabilitiesbyHandle=pd.DataFrame(columns=['handle','jointProbability'])\n",
    "    for i in wordfreq.keys():\n",
    "        oneHandle=testProbabilities.query('handle ==\"'+ i +'\"' )\n",
    "        jointProbability=oneHandle.product(numeric_only=True)[0]\n",
    "        output=pd.DataFrame([[i,jointProbability]],columns=['handle','jointProbability'])\n",
    "        testProbabilitiesbyHandle=testProbabilitiesbyHandle.append(output,ignore_index=True)\n",
    "    return testProbabilitiesbyHandle.loc[testProbabilitiesbyHandle['jointProbability'].idxmax(),'handle']\n",
    "    \n",
    "    \n",
    "    \n",
    "    "
   ]
  },
  {
   "cell_type": "code",
   "execution_count": 88,
   "metadata": {},
   "outputs": [
    {
     "data": {
      "text/plain": [
       "'@gordone_cellars'"
      ]
     },
     "execution_count": 88,
     "metadata": {},
     "output_type": "execute_result"
    }
   ],
   "source": [
    "Guess_Joint_Prob('It is a spicy wine with rich notes of plum and apples. The vanilla finish with hints of spices lends a unique taste.')"
   ]
  },
  {
   "cell_type": "code",
   "execution_count": null,
   "metadata": {
    "collapsed": true
   },
   "outputs": [],
   "source": []
  }
 ],
 "metadata": {
  "kernelspec": {
   "display_name": "Python 2",
   "language": "python",
   "name": "python2"
  },
  "language_info": {
   "codemirror_mode": {
    "name": "ipython",
    "version": 2
   },
   "file_extension": ".py",
   "mimetype": "text/x-python",
   "name": "python",
   "nbconvert_exporter": "python",
   "pygments_lexer": "ipython2",
   "version": "2.7.14"
  }
 },
 "nbformat": 4,
 "nbformat_minor": 2
}

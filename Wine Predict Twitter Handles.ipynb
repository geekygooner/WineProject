{
 "cells": [
  {
   "cell_type": "markdown",
   "metadata": {},
   "source": [
    "Predicting Missing Twitter Handles from Text"
   ]
  },
  {
   "cell_type": "code",
   "execution_count": 1,
   "metadata": {
    "collapsed": true
   },
   "outputs": [],
   "source": [
    "import pandas as pd\n",
    "import numpy as np\n",
    "import matplotlib.pyplot as plt\n",
    "import seaborn as sns\n",
    "import nltk\n",
    "%matplotlib inline"
   ]
  },
  {
   "cell_type": "code",
   "execution_count": 2,
   "metadata": {
    "collapsed": true
   },
   "outputs": [],
   "source": [
    "df=pd.read_csv('winedata.csv')"
   ]
  },
  {
   "cell_type": "code",
   "execution_count": 3,
   "metadata": {
    "collapsed": true
   },
   "outputs": [],
   "source": [
    "test=df[df['taster_twitter_handle'].isnull()]   #Test data"
   ]
  },
  {
   "cell_type": "code",
   "execution_count": 4,
   "metadata": {
    "collapsed": true
   },
   "outputs": [],
   "source": [
    "df2=df[df['taster_twitter_handle'].notnull()] "
   ]
  },
  {
   "cell_type": "code",
   "execution_count": 5,
   "metadata": {
    "collapsed": true
   },
   "outputs": [],
   "source": [
    "#Splitting into Train and validation sets\n",
    "from sklearn.model_selection import train_test_split\n",
    "train,validation=train_test_split(df2,test_size=0.2)"
   ]
  },
  {
   "cell_type": "code",
   "execution_count": 6,
   "metadata": {
    "collapsed": true
   },
   "outputs": [],
   "source": [
    "by_handle=train.groupby('taster_twitter_handle')"
   ]
  },
  {
   "cell_type": "code",
   "execution_count": 7,
   "metadata": {},
   "outputs": [],
   "source": [
    "wordfreq=nltk.probability.ConditionalFreqDist()\n",
    "for name,group in by_handle:\n",
    "    tweets=group['description'].str.cat(sep = ' ') \n",
    "    #get all of the tweets they wrote and collapse them into a\n",
    "    #single long string\n",
    "    tweets=tweets.lower().decode('utf-8')\n",
    "    #split the text into individual tokens\n",
    "    tokens=nltk.tokenize.word_tokenize(tweets)\n",
    "    # calculate the frequency of each token\n",
    "    freq=nltk.FreqDist(tokens)\n",
    "    #add the frequencies for each author to our dictionary\n",
    "    wordfreq[name]=(freq)\n",
    "    "
   ]
  },
  {
   "cell_type": "markdown",
   "metadata": {
    "collapsed": true
   },
   "source": [
    "Guessing who tweeted the review using Joint Probability"
   ]
  },
  {
   "cell_type": "code",
   "execution_count": 8,
   "metadata": {},
   "outputs": [],
   "source": [
    "def Guess_Joint_Prob(s):\n",
    "    testTweet=s\n",
    "    processedTweet=nltk.tokenize.word_tokenize(testTweet.lower())\n",
    "    #print(processedTweet)\n",
    "    #testProbabilities=pd.DataFrame(columns=['handle','word','probability'])\n",
    "    testProbList = []\n",
    "    for i in wordfreq.keys(): #get handles\n",
    "        for j in processedTweet: #each word from tweet\n",
    "            tweetfreq=wordfreq[i].freq(j) #how frequently that word was tweeted by that handle\n",
    "            smoothedfreq=tweetfreq+0.000001\n",
    "            #adding handle and smoothedfreq to DF\n",
    "            d = {\n",
    "                'handle': i,\n",
    "                'word': j,\n",
    "                'probability':smoothedfreq\n",
    "            }\n",
    "            testProbList.append(d)\n",
    "    testProbabilities = pd.DataFrame(data =testProbList, columns=['handle','word','probability'])\n",
    "\n",
    "    testProbabilitiesbyHandleList = []\n",
    "    for i in wordfreq.keys():\n",
    "        oneHandle=testProbabilities.query('handle ==\"'+ i +'\"' )\n",
    "        #print(oneHandle, i)\n",
    "        jointProbability=oneHandle.product(numeric_only=True)[0]\n",
    "        #print(jointProbability)\n",
    "        d = {\n",
    "            'handle': i,\n",
    "            'jointProbability': jointProbability\n",
    "        }\n",
    "        testProbabilitiesbyHandleList.append(d)\n",
    "        #print(testProbabilitiesbyHandle)\n",
    "    testProbabilitiesbyHandle=pd.DataFrame(data = testProbabilitiesbyHandleList, columns=['handle','jointProbability'])\n",
    "    return (testProbabilitiesbyHandle.loc[testProbabilitiesbyHandle['jointProbability'].idxmax(),'handle'])"
   ]
  },
  {
   "cell_type": "code",
   "execution_count": 9,
   "metadata": {},
   "outputs": [
    {
     "data": {
      "text/plain": [
       "'@gordone_cellars'"
      ]
     },
     "execution_count": 9,
     "metadata": {},
     "output_type": "execute_result"
    }
   ],
   "source": [
    "Guess_Joint_Prob('It is a spicy wine with rich notes of plum and apples. The vanilla finish with hints of spices lends a unique taste.')"
   ]
  },
  {
   "cell_type": "code",
   "execution_count": 10,
   "metadata": {
    "collapsed": true
   },
   "outputs": [],
   "source": [
    "reviews=validation.description.values.tolist()"
   ]
  },
  {
   "cell_type": "code",
   "execution_count": 11,
   "metadata": {
    "collapsed": true
   },
   "outputs": [],
   "source": [
    "import sys\n",
    "reload(sys)  \n",
    "sys.setdefaultencoding('utf8')"
   ]
  },
  {
   "cell_type": "code",
   "execution_count": 12,
   "metadata": {},
   "outputs": [],
   "source": [
    "from sklearn import metrics"
   ]
  },
  {
   "cell_type": "code",
   "execution_count": 16,
   "metadata": {},
   "outputs": [],
   "source": [
    "review_decoded = []\n",
    "for i in reviews:\n",
    "    review_decoded.append(str(i).decode('utf-8'))"
   ]
  },
  {
   "cell_type": "code",
   "execution_count": null,
   "metadata": {},
   "outputs": [],
   "source": [
    "%time \n",
    "pred_handles=map(Guess_Joint_Prob,review_decoded)"
   ]
  },
  {
   "cell_type": "code",
   "execution_count": null,
   "metadata": {},
   "outputs": [],
   "source": [
    "%%time\n",
    "metrics.accuracy_score((pred_handles),validation.taster_twitter_handle.values.tolist())"
   ]
  },
  {
   "cell_type": "code",
   "execution_count": null,
   "metadata": {
    "collapsed": true
   },
   "outputs": [],
   "source": []
  }
 ],
 "metadata": {
  "kernelspec": {
   "display_name": "Python 2",
   "language": "python",
   "name": "python2"
  },
  "language_info": {
   "codemirror_mode": {
    "name": "ipython",
    "version": 2
   },
   "file_extension": ".py",
   "mimetype": "text/x-python",
   "name": "python",
   "nbconvert_exporter": "python",
   "pygments_lexer": "ipython2",
   "version": "2.7.14"
  }
 },
 "nbformat": 4,
 "nbformat_minor": 2
}
